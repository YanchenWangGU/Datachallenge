{
 "cells": [
  {
   "cell_type": "code",
   "execution_count": 3,
   "metadata": {},
   "outputs": [
    {
     "data": {
      "text/html": [
       "<div class='tableauPlaceholder' id='viz1524865133271' style='position: relative'><noscript><a href='#'><img alt='Number of Rides During Winter 16-17 and Winter 17-18 ' src='https:&#47;&#47;public.tableau.com&#47;static&#47;images&#47;XK&#47;XKDFM357D&#47;1_rss.png' style='border: none' /></a></noscript><object class='tableauViz'  style='display:none;'><param name='host_url' value='https%3A%2F%2Fpublic.tableau.com%2F' /> <param name='embed_code_version' value='3' /> <param name='path' value='shared&#47;XKDFM357D' /> <param name='toolbar' value='yes' /><param name='static_image' value='https:&#47;&#47;public.tableau.com&#47;static&#47;images&#47;XK&#47;XKDFM357D&#47;1.png' /> <param name='animate_transition' value='yes' /><param name='display_static_image' value='yes' /><param name='display_spinner' value='yes' /><param name='display_overlay' value='yes' /><param name='display_count' value='yes' /><param name='filter' value='publish=yes' /></object></div>                <script type='text/javascript'>                    var divElement = document.getElementById('viz1524865133271');                    var vizElement = divElement.getElementsByTagName('object')[0];                    vizElement.style.width='100%';vizElement.style.height=(divElement.offsetWidth*0.75)+'px';                    var scriptElement = document.createElement('script');                    scriptElement.src = 'https://public.tableau.com/javascripts/api/viz_v1.js';                    vizElement.parentNode.insertBefore(scriptElement, vizElement);                </script>\n",
       "\n",
       "The plot above Shows numbers of riders for Capital Bikeshare during winter 2016-2017 (Oct. 2016 - Mar. 2017) and winter 2017-2018 (Oct. 2017 - Mar. 2018). \n",
       "The dockless bike-sharing companies started to race to Washington DC in October. In the plot above, we can see that in October, the time dockless bikes just entered the market, number of rides in 2017 was much higher than number of rides in 2016. In 2018, the trend started to change that number of rides in 2018 was lower than 2017 in Janurary, Feburary and March"
      ],
      "text/plain": [
       "<IPython.core.display.HTML object>"
      ]
     },
     "metadata": {},
     "output_type": "display_data"
    }
   ],
   "source": [
    "%%HTML\n",
    "<div class='tableauPlaceholder' id='viz1524865133271' style='position: relative'><noscript><a href='#'><img alt='Number of Rides During Winter 16-17 and Winter 17-18 ' src='https:&#47;&#47;public.tableau.com&#47;static&#47;images&#47;XK&#47;XKDFM357D&#47;1_rss.png' style='border: none' /></a></noscript><object class='tableauViz'  style='display:none;'><param name='host_url' value='https%3A%2F%2Fpublic.tableau.com%2F' /> <param name='embed_code_version' value='3' /> <param name='path' value='shared&#47;XKDFM357D' /> <param name='toolbar' value='yes' /><param name='static_image' value='https:&#47;&#47;public.tableau.com&#47;static&#47;images&#47;XK&#47;XKDFM357D&#47;1.png' /> <param name='animate_transition' value='yes' /><param name='display_static_image' value='yes' /><param name='display_spinner' value='yes' /><param name='display_overlay' value='yes' /><param name='display_count' value='yes' /><param name='filter' value='publish=yes' /></object></div>                <script type='text/javascript'>                    var divElement = document.getElementById('viz1524865133271');                    var vizElement = divElement.getElementsByTagName('object')[0];                    vizElement.style.width='100%';vizElement.style.height=(divElement.offsetWidth*0.75)+'px';                    var scriptElement = document.createElement('script');                    scriptElement.src = 'https://public.tableau.com/javascripts/api/viz_v1.js';                    vizElement.parentNode.insertBefore(scriptElement, vizElement);                </script>\n",
    "\n",
    "The plot above Shows numbers of riders for Capital Bikeshare during winter 2016-2017 (Oct. 2016 - Mar. 2017) and winter 2017-2018 (Oct. 2017 - Mar. 2018). \n",
    "The dockless bike-sharing companies started to race to Washington DC in October. In the plot above, we can see that in October, the time dockless bikes just entered the market, number of rides in 2017 was much higher than number of rides in 2016. In 2018, the trend started to change that number of rides in 2018 was lower than 2017 in Janurary, Feburary and March"
   ]
  },
  {
   "cell_type": "markdown",
   "metadata": {},
   "source": [
    "The plot above Shows numbers of riders for Capital Bikeshare during winter 2016-2017 (Oct. 2016 - Mar. 2017) and winter 2017-2018 (Oct. 2017 - Mar. 2018). <br > \n",
    "The dockless bike-sharing companies started to race to Washington DC in October. In the plot above, we can see that in October, the time dockless bikes just entered the market, number of rides in 2017 was much higher than number of rides in 2016. In 2018, the trend started to change that number of rides in 2018 was lower than 2017 in Janurary, Feburary and March"
   ]
  }
 ],
 "metadata": {
  "kernelspec": {
   "display_name": "Python 3",
   "language": "python",
   "name": "python3"
  },
  "language_info": {
   "codemirror_mode": {
    "name": "ipython",
    "version": 3
   },
   "file_extension": ".py",
   "mimetype": "text/x-python",
   "name": "python",
   "nbconvert_exporter": "python",
   "pygments_lexer": "ipython3",
   "version": "3.6.1"
  }
 },
 "nbformat": 4,
 "nbformat_minor": 2
}
