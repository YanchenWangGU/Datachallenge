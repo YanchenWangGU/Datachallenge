{
 "cells": [
  {
   "cell_type": "markdown",
   "metadata": {},
   "source": [
    "https://public.tableau.com/profile/yanchen.wang#!/vizhome/Datachallenge/Sheet1?publish=yes"
   ]
  },
  {
   "cell_type": "markdown",
   "metadata": {},
   "source": [
    "The plot above Shows numbers of riders for Capital Bikeshare during winter 2016-2017 (Oct. 2016 - Mar. 2017) and winter 2017-2018 (Oct. 2017 - Mar. 2018). <br > \n",
    "The dockless bike-sharing companies started to race to Washington DC in October. In the plot above, we can see that in October, the time dockless bikes just entered the market, number of rides in 2017 was much higher than number of rides in 2016. In 2018, the trend started to change that number of rides in 2018 was lower than 2017 in Janurary, Feburary and March"
   ]
  }
 ],
 "metadata": {
  "kernelspec": {
   "display_name": "Python 3",
   "language": "python",
   "name": "python3"
  },
  "language_info": {
   "codemirror_mode": {
    "name": "ipython",
    "version": 3
   },
   "file_extension": ".py",
   "mimetype": "text/x-python",
   "name": "python",
   "nbconvert_exporter": "python",
   "pygments_lexer": "ipython3",
   "version": "3.6.1"
  }
 },
 "nbformat": 4,
 "nbformat_minor": 2
}
